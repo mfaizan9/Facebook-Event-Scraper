{
 "cells": [
  {
   "cell_type": "markdown",
   "id": "645e2819",
   "metadata": {},
   "source": [
    "# Imports here"
   ]
  },
  {
   "cell_type": "code",
   "execution_count": 1,
   "id": "ef968043",
   "metadata": {
    "ExecuteTime": {
     "end_time": "2022-06-10T11:15:52.518963Z",
     "start_time": "2022-06-10T11:15:51.561614Z"
    }
   },
   "outputs": [],
   "source": [
    "from selenium import webdriver\n",
    "from selenium.webdriver.common.keys import Keys\n",
    "from selenium.webdriver.support import expected_conditions as EC\n",
    "from selenium.webdriver.common.by import By\n",
    "from selenium.webdriver.support.wait import WebDriverWait\n",
    "from selenium.webdriver.common.action_chains import ActionChains\n",
    "import time\n",
    "import os\n",
    "import wget\n",
    "from bs4 import BeautifulSoup"
   ]
  },
  {
   "cell_type": "markdown",
   "id": "fc1770f1",
   "metadata": {},
   "source": [
    "# Columns of EXCEL file"
   ]
  },
  {
   "cell_type": "code",
   "execution_count": 2,
   "id": "882662fc",
   "metadata": {
    "ExecuteTime": {
     "end_time": "2022-06-10T11:15:53.436945Z",
     "start_time": "2022-06-10T11:15:53.423951Z"
    }
   },
   "outputs": [],
   "source": [
    "EVENT_NAME = []\n",
    "VENUE = []\n",
    "DAY = []\n",
    "DATE = []\n",
    "START_TIME = []\n",
    "END_TIME = []\n",
    "TIME_ZONE = []\n",
    "IMAGE_LINK = []\n",
    "DESCRIPTION = []"
   ]
  },
  {
   "cell_type": "markdown",
   "id": "87490d2f",
   "metadata": {},
   "source": [
    "## This code disable alerts"
   ]
  },
  {
   "cell_type": "code",
   "execution_count": 3,
   "id": "dd155dbf",
   "metadata": {
    "ExecuteTime": {
     "end_time": "2022-06-10T11:15:54.730827Z",
     "start_time": "2022-06-10T11:15:54.711847Z"
    }
   },
   "outputs": [],
   "source": [
    "chrome_options = webdriver.ChromeOptions()\n",
    "prefs = {\"profile.default_content_setting_values.notifications\" : 2}\n",
    "chrome_options.add_experimental_option(\"prefs\",prefs)"
   ]
  },
  {
   "cell_type": "markdown",
   "id": "fe7a03f4",
   "metadata": {},
   "source": [
    "# Setting up WEBDRIVER\n",
    "\n",
    "Download CHROMEDRIVER from web, install it in your pc, and copy its path and paste it below."
   ]
  },
  {
   "cell_type": "code",
   "execution_count": 4,
   "id": "2deaa5c6",
   "metadata": {
    "ExecuteTime": {
     "end_time": "2022-06-10T11:16:09.531602Z",
     "start_time": "2022-06-10T11:15:56.505182Z"
    }
   },
   "outputs": [
    {
     "name": "stderr",
     "output_type": "stream",
     "text": [
      "C:\\Users\\MUHAMM~1\\AppData\\Local\\Temp/ipykernel_11680/3772791528.py:2: DeprecationWarning: executable_path has been deprecated, please pass in a Service object\n",
      "  driver = webdriver.Chrome(path, chrome_options=chrome_options)\n",
      "C:\\Users\\MUHAMM~1\\AppData\\Local\\Temp/ipykernel_11680/3772791528.py:2: DeprecationWarning: use options instead of chrome_options\n",
      "  driver = webdriver.Chrome(path, chrome_options=chrome_options)\n"
     ]
    }
   ],
   "source": [
    "path = \"D:/Softwares/chromedriver_win32/chromedriver.exe\" # paste within \" \"\n",
    "driver = webdriver.Chrome(path, chrome_options=chrome_options)\n",
    "\n",
    "# open the webpage of event\n",
    "driver.get(\"http://www.facebook.com\")\n",
    "time.sleep(5) # wait for 5 seconds, so that page loads full\n",
    "\n",
    "#target username\n",
    "username = WebDriverWait(driver, 10).until(EC.element_to_be_clickable((By.CSS_SELECTOR, \"input[name='email']\")))\n",
    "password = WebDriverWait(driver, 10).until(EC.element_to_be_clickable((By.CSS_SELECTOR, \"input[name='pass']\")))\n",
    "\n",
    "#enter username and password\n",
    "username.clear()\n",
    "username.send_keys(\"my_username\") # enter username between \" \"\n",
    "password.clear()\n",
    "password.send_keys(\"my_password\") # enter password between \" \"\n",
    "\n",
    "#target the login button and click it\n",
    "button = WebDriverWait(driver, 2).until(EC.element_to_be_clickable((By.CSS_SELECTOR, \"button[type='submit']\"))).click()\n",
    "\n",
    "#We are logged in!\n",
    "\n",
    "# Hurry!!!!! We are in the page"
   ]
  },
  {
   "cell_type": "markdown",
   "id": "00d08614",
   "metadata": {},
   "source": [
    "# Scraping begins"
   ]
  },
  {
   "cell_type": "markdown",
   "id": "01061db9",
   "metadata": {},
   "source": [
    "## Click on Music Category"
   ]
  },
  {
   "cell_type": "code",
   "execution_count": 20,
   "id": "29a73c0b",
   "metadata": {
    "ExecuteTime": {
     "end_time": "2022-06-07T21:38:34.907946Z",
     "start_time": "2022-06-07T21:38:34.157407Z"
    }
   },
   "outputs": [
    {
     "name": "stderr",
     "output_type": "stream",
     "text": [
      "C:\\Users\\MUHAMM~1\\AppData\\Local\\Temp/ipykernel_19072/371895115.py:1: DeprecationWarning: find_element_by_xpath is deprecated. Please use find_element(by=By.XPATH, value=xpath) instead\n",
      "  music_div = driver.find_element_by_xpath(\"/html/body/div[1]/div/div[1]/div/div[3]/div/div/div[1]/div[1]/div[1]/div/div[3]/div[1]/div[2]/div[3]\")\n",
      "C:\\Users\\MUHAMM~1\\AppData\\Local\\Temp/ipykernel_19072/371895115.py:2: DeprecationWarning: find_element_by_partial_link_text is deprecated. Please use find_element(by=By.PARTIAL_LINK_TEXT, value=link_text) instead\n",
      "  music = music_div.find_element_by_partial_link_text(\"Music\")\n"
     ]
    }
   ],
   "source": [
    "music_div = driver.find_element_by_xpath(\"/html/body/div[1]/div/div[1]/div/div[3]/div/div/div[1]/div[1]/div[1]/div/div[3]/div[1]/div[2]/div[3]\")\n",
    "music = music_div.find_element_by_partial_link_text(\"Music\")\n",
    "music.click()"
   ]
  },
  {
   "cell_type": "markdown",
   "id": "0cb2a921",
   "metadata": {},
   "source": [
    "## Click on LOCATION"
   ]
  },
  {
   "cell_type": "code",
   "execution_count": 21,
   "id": "84451e34",
   "metadata": {
    "ExecuteTime": {
     "end_time": "2022-06-07T21:38:50.201164Z",
     "start_time": "2022-06-07T21:38:39.002627Z"
    }
   },
   "outputs": [
    {
     "name": "stderr",
     "output_type": "stream",
     "text": [
      "C:\\Users\\MUHAMM~1\\AppData\\Local\\Temp/ipykernel_19072/1686938257.py:2: DeprecationWarning: find_element_by_xpath is deprecated. Please use find_element(by=By.XPATH, value=xpath) instead\n",
      "  location = driver.find_element_by_xpath(\"/html/body/div[1]/div/div[1]/div/div[3]/div/div/div[1]/div[1]/div[1]/div/div[3]/div[1]/div[2]/div/div[3]/div/div[2]/div/div/div/div/div/div/div[1]/div/div[2]/i\")\n",
      "C:\\Users\\MUHAMM~1\\AppData\\Local\\Temp/ipykernel_19072/1686938257.py:5: DeprecationWarning: find_element_by_xpath is deprecated. Please use find_element(by=By.XPATH, value=xpath) instead\n",
      "  l = driver.find_element_by_xpath(\"/html/body/div[1]/div/div[1]/div/div[3]/div/div/div[1]/div[1]/div[1]/div/div[3]/div[1]/div[2]/div/div[3]/div/div[2]/div/div/div/div/div/div/div[2]/input\")\n"
     ]
    }
   ],
   "source": [
    "time.sleep(8) # wait 5 seconds so that page loads fully\n",
    "location = driver.find_element_by_xpath(\"/html/body/div[1]/div/div[1]/div/div[3]/div/div/div[1]/div[1]/div[1]/div/div[3]/div[1]/div[2]/div/div[3]/div/div[2]/div/div/div/div/div/div/div[1]/div/div[2]/i\")\n",
    "location.click()\n",
    "time.sleep(3)\n",
    "l = driver.find_element_by_xpath(\"/html/body/div[1]/div/div[1]/div/div[3]/div/div/div[1]/div[1]/div[1]/div/div[3]/div[1]/div[2]/div/div[3]/div/div[2]/div/div/div/div/div/div/div[2]/input\")\n"
   ]
  },
  {
   "cell_type": "markdown",
   "id": "f9c5aaf0",
   "metadata": {},
   "source": [
    "## Type the CITY NAME here (Correct Spellings PLEASE)"
   ]
  },
  {
   "cell_type": "code",
   "execution_count": 22,
   "id": "84e5df7e",
   "metadata": {
    "ExecuteTime": {
     "end_time": "2022-06-07T21:38:56.731581Z",
     "start_time": "2022-06-07T21:38:53.221339Z"
    }
   },
   "outputs": [],
   "source": [
    "City = \"Albuquerque\"\n",
    "full_City = City + \", New Mexico\"\n",
    "l.send_keys(full_City)\n",
    "time.sleep(3)"
   ]
  },
  {
   "cell_type": "markdown",
   "id": "1a12713e",
   "metadata": {},
   "source": [
    "## Click on the city"
   ]
  },
  {
   "cell_type": "code",
   "execution_count": 23,
   "id": "1b4d4033",
   "metadata": {
    "ExecuteTime": {
     "end_time": "2022-06-07T21:38:58.128613Z",
     "start_time": "2022-06-07T21:38:57.812807Z"
    }
   },
   "outputs": [
    {
     "name": "stderr",
     "output_type": "stream",
     "text": [
      "C:\\Users\\MUHAMM~1\\AppData\\Local\\Temp/ipykernel_19072/496827770.py:1: DeprecationWarning: find_element_by_xpath is deprecated. Please use find_element(by=By.XPATH, value=xpath) instead\n",
      "  aa = driver.find_element_by_xpath(\"/html/body/div[1]/div/div[1]/div/div[3]/div/div/div[2]/div/div/div[1]/div[1]/div/ul/li[1]/div/div[1]/div/div/div/div/div[2]/div/span/span\")\n"
     ]
    }
   ],
   "source": [
    "aa = driver.find_element_by_xpath(\"/html/body/div[1]/div/div[1]/div/div[3]/div/div/div[2]/div/div/div[1]/div[1]/div/ul/li[1]/div/div[1]/div/div/div/div/div[2]/div/span/span\")\n",
    "aa.click()"
   ]
  },
  {
   "cell_type": "markdown",
   "id": "0b2af46d",
   "metadata": {},
   "source": [
    "## Number of SCROLLS"
   ]
  },
  {
   "cell_type": "code",
   "execution_count": 24,
   "id": "ead7ab8e",
   "metadata": {
    "ExecuteTime": {
     "end_time": "2022-06-07T21:39:15.214017Z",
     "start_time": "2022-06-07T21:39:06.140024Z"
    }
   },
   "outputs": [],
   "source": [
    "Num_Scrolls = 4\n",
    "for i in range(1,Num_Scrolls):\n",
    "    driver.execute_script(\"window.scrollTo(0,document.body.scrollHeight);\")\n",
    "    time.sleep(3)"
   ]
  },
  {
   "cell_type": "markdown",
   "id": "a2edda6a",
   "metadata": {},
   "source": [
    "## LINKS of all events"
   ]
  },
  {
   "cell_type": "code",
   "execution_count": 25,
   "id": "fb48da5f",
   "metadata": {
    "ExecuteTime": {
     "end_time": "2022-06-07T21:39:20.250891Z",
     "start_time": "2022-06-07T21:39:17.381412Z"
    }
   },
   "outputs": [
    {
     "name": "stderr",
     "output_type": "stream",
     "text": [
      "C:\\Users\\MUHAMM~1\\AppData\\Local\\Temp/ipykernel_19072/3693304027.py:1: DeprecationWarning: find_elements_by_class_name is deprecated. Please use find_elements(by=By.CLASS_NAME, value=name) instead\n",
      "  links_list = driver.find_elements_by_class_name(\"sjgh65i0\")\n",
      "C:\\Users\\MUHAMM~1\\AppData\\Local\\Temp/ipykernel_19072/3693304027.py:5: DeprecationWarning: find_element_by_tag_name is deprecated. Please use find_element(by=By.TAG_NAME, value=name) instead\n",
      "  text = link.find_element_by_tag_name(\"a\").get_attribute('href')\n"
     ]
    }
   ],
   "source": [
    "links_list = driver.find_elements_by_class_name(\"sjgh65i0\")\n",
    "\n",
    "LINKS2 = []\n",
    "for link in links_list:\n",
    "    text = link.find_element_by_tag_name(\"a\").get_attribute('href')\n",
    "    LINKS2.append(text)\n",
    "\n",
    "LINKS=[]\n",
    "for i in LINKS2:\n",
    "    if i not in LINKS:\n",
    "        LINKS.append(i)"
   ]
  },
  {
   "cell_type": "markdown",
   "id": "21c2db17",
   "metadata": {},
   "source": [
    "## RUN LOOP over all events"
   ]
  },
  {
   "cell_type": "code",
   "execution_count": 30,
   "id": "a82128ce",
   "metadata": {
    "ExecuteTime": {
     "end_time": "2022-06-07T21:43:03.574259Z",
     "start_time": "2022-06-07T21:40:48.177802Z"
    }
   },
   "outputs": [
    {
     "name": "stdout",
     "output_type": "stream",
     "text": [
      "IMAGE LINK FETCHED\n",
      "EVENT ADDED\n",
      "VENUE ADDED\n",
      "TIME and DATE ADDED\n",
      "DESCRIPTION ADDED \n",
      "\n",
      "IMAGE LINK FETCHED\n"
     ]
    },
    {
     "name": "stderr",
     "output_type": "stream",
     "text": [
      "C:\\Users\\MUHAMM~1\\AppData\\Local\\Temp/ipykernel_19072/978178703.py:26: DeprecationWarning: find_element_by_xpath is deprecated. Please use find_element(by=By.XPATH, value=xpath) instead\n",
      "  y = driver.find_element_by_xpath(\"//*[contains(text(), 'See more')]\")\n"
     ]
    },
    {
     "name": "stdout",
     "output_type": "stream",
     "text": [
      "EVENT ADDED\n",
      "VENUE ADDED\n",
      "TIME and DATE ADDED\n",
      "DESCRIPTION ADDED \n",
      "\n",
      "IMAGE LINK FETCHED\n",
      "EVENT ADDED\n",
      "VENUE ADDED\n",
      "TIME and DATE ADDED\n",
      "DESCRIPTION ADDED \n",
      "\n",
      "IMAGE LINK FETCHED\n",
      "EVENT ADDED\n",
      "VENUE ADDED\n",
      "TIME and DATE ADDED\n",
      "DESCRIPTION ADDED \n",
      "\n",
      "IMAGE LINK FETCHED\n",
      "EVENT ADDED\n",
      "VENUE ADDED\n",
      "TIME and DATE ADDED\n",
      "DESCRIPTION ADDED \n",
      "\n",
      "IMAGE LINK FETCHED\n",
      "EVENT ADDED\n",
      "VENUE ADDED\n",
      "TIME and DATE ADDED\n",
      "DESCRIPTION ADDED \n",
      "\n",
      "IMAGE LINK FETCHED\n",
      "EVENT ADDED\n",
      "VENUE ADDED\n",
      "TIME and DATE ADDED\n",
      "DESCRIPTION ADDED \n",
      "\n",
      "IMAGE LINK FETCHED\n",
      "EVENT ADDED\n",
      "VENUE ADDED\n",
      "TIME and DATE ADDED\n",
      "DESCRIPTION ADDED \n",
      "\n",
      "IMAGE LINK FETCHED\n",
      "EVENT ADDED\n",
      "VENUE ADDED\n",
      "TIME and DATE ADDED\n",
      "DESCRIPTION ADDED \n",
      "\n",
      "IMAGE LINK FETCHED\n",
      "EVENT ADDED\n",
      "VENUE ADDED\n",
      "TIME and DATE ADDED\n",
      "DESCRIPTION ADDED \n",
      "\n",
      "IMAGE LINK FETCHED\n",
      "EVENT ADDED\n",
      "VENUE ADDED\n",
      "TIME and DATE ADDED\n",
      "DESCRIPTION ADDED \n",
      "\n"
     ]
    }
   ],
   "source": [
    "for i in range(len(LINKS)):\n",
    "    import time\n",
    "    driver.get(LINKS[i])\n",
    "    time.sleep(3)\n",
    "    html = driver.page_source\n",
    "    soup = BeautifulSoup(html , \"lxml\")\n",
    "    \n",
    "    # This will return IMAGE LINK\n",
    "    \n",
    "    im = soup.find_all(\"div\" , class_=\"rq0escxv l9j0dhe7 du4w35lb hpfvmrgz rj1gh0hx buofh1pr g5gj957u bp9cbjyn j83agx80 cbu4d94t taijpn5t o4feeg3o\")\n",
    "    for j in im:\n",
    "         IMAGE_LINK.append(j.find(\"img\").get(\"src\"))\n",
    "    \n",
    "    print(\"IMAGE LINK FETCHED\")\n",
    "    \n",
    "    \n",
    "    # This part will click on SEE MORE, if description is too long\n",
    "    \n",
    "    time.sleep(3)\n",
    "    \n",
    "    dess = soup.find(\"div\",class_ =\"p75sslyk\").span.text\n",
    "    \n",
    "\n",
    "    if \"See more\" in dess:\n",
    "\n",
    "        y = driver.find_element_by_xpath(\"//*[contains(text(), 'See more')]\")\n",
    "        y.click()\n",
    "\n",
    "    # new html after clicking on SEE MORE\n",
    "    time.sleep(3)\n",
    "    html2 = driver.page_source\n",
    "    soup2 = BeautifulSoup(html2 , \"lxml\")\n",
    "    \n",
    "    # This will give the EVENT NAME\n",
    "    title = soup2.find(\"span\", class_ = \"a8c37x1j ni8dbmo4 stjgntxs l9j0dhe7 pby63qed\")\n",
    "    Heading = title.span.text ####################################################################\n",
    "    EVENT_NAME.append(Heading) # added to list\n",
    "    print(\"EVENT ADDED\")\n",
    "    \n",
    "    \n",
    "    \n",
    "    # This will give the VENUE\n",
    "    loc = soup2.find_all(\"span\" , class_= \"d2edcug0 hpfvmrgz qv66sw1b c1et5uql lr9zc1uh a8c37x1j fe6kdd0r mau55g9w c8b282yb keod5gw0 nxhoafnm aigsh9s9 d3f4x2em iv3no6db jq4qci2q a3bd9o3v b1v8xokw oo9gr5id hzawbc8m\")\n",
    "    loclist = []\n",
    "    for k in range(len(loc)):\n",
    "        aa = loc[k].text\n",
    "        loclist.append(aa)\n",
    "\n",
    "    for kk in range(len(loclist)):\n",
    "        if \"Event\" in loclist[kk]:\n",
    "            ll = loclist[kk+1] ########################################################################\n",
    "            break\n",
    "            \n",
    "    VENUE.append(ll) # added to list\n",
    "    print(\"VENUE ADDED\")\n",
    "    \n",
    "    \n",
    "    \n",
    "    # TIME, DATE, DAY\n",
    "    time = soup2.find(\"span\" , class_ = \"d2edcug0 hpfvmrgz qv66sw1b c1et5uql lr9zc1uh a8c37x1j fe6kdd0r mau55g9w c8b282yb keod5gw0 nxhoafnm aigsh9s9 d3f4x2em iv3no6db jq4qci2q a3bd9o3v hnhda86s jdix4yx3 hzawbc8m\")\n",
    "    time = time.text\n",
    "    \n",
    "    if \"FROM\" in time:\n",
    "    \n",
    "\n",
    "        splitted_time = time.split()\n",
    "        day = splitted_time[0].replace(\",\",\"\") # DAY ###################################################\n",
    "        s_time = time.split(' ', 1)[1] # without day\n",
    "        s_time2 = s_time.split(\"FROM\")\n",
    "        date = s_time2[0] # DATE########################################################################\n",
    "        tim = s_time2[1]\n",
    "        tim2 = tim.split(\"-\")\n",
    "        timezone = tim2[1].split(\" \")\n",
    "        tz = timezone[1] # TIME ZONE ###################################################################\n",
    "        end_tm = timezone[0] # END TIME ################################################################\n",
    "        st_tm = tim2[0].replace(\" \",\"\") # START TIME ###################################################\n",
    "    \n",
    "    \n",
    "    elif \"AT\" in time:\n",
    "        \n",
    "        splitted_time = time.split()\n",
    "    #     print(splitted_time)\n",
    "        day = splitted_time[0].replace(\",\",\"\") # DAY --------------------------------\n",
    "        s_time = time.split(' ', 1)[1] # without day\n",
    "        s_time2 = s_time.split(\"AT\")\n",
    "        date = s_time2[0] # DATE--------------------------------\n",
    "        tim = s_time2[1]\n",
    "        tim2 = tim.split(\" \")\n",
    "        st_tm = tim2[1] # START TIME ------------------------------------\n",
    "        end_tm = \"NA\" # END TIME ----------------------------------------\n",
    "        tz = tim2[2] # TIME ZONE -------------------------------------------\n",
    "        \n",
    "    DATE.append(date)\n",
    "    START_TIME.append(st_tm)\n",
    "    END_TIME.append(end_tm)\n",
    "    TIME_ZONE.append(tz)\n",
    "    DAY.append(day)\n",
    "    \n",
    "    print(\"TIME and DATE ADDED\")\n",
    "    \n",
    "    \n",
    "    \n",
    "    \n",
    "    \n",
    "    \n",
    "    \n",
    "    # This part will return description\n",
    "    \n",
    "    des = soup2.find(\"div\",class_ =\"p75sslyk\").span.text\n",
    "    if \"See less\" in des:\n",
    "        des = des.replace(\"See less\", \"\") ##################################### DESCRIPTION\n",
    "\n",
    "    \n",
    "    DESCRIPTION.append(des)\n",
    "    print(\"DESCRIPTION ADDED\", \"\\n\")\n",
    "    \n",
    "    \n"
   ]
  },
  {
   "cell_type": "markdown",
   "id": "e44578bb",
   "metadata": {},
   "source": [
    "# WRITING the DATA to EXCEL FILE"
   ]
  },
  {
   "cell_type": "code",
   "execution_count": 32,
   "id": "e13199d0",
   "metadata": {
    "ExecuteTime": {
     "end_time": "2022-06-07T21:46:49.250324Z",
     "start_time": "2022-06-07T21:46:48.874136Z"
    }
   },
   "outputs": [
    {
     "data": {
      "text/html": [
       "<div>\n",
       "<style scoped>\n",
       "    .dataframe tbody tr th:only-of-type {\n",
       "        vertical-align: middle;\n",
       "    }\n",
       "\n",
       "    .dataframe tbody tr th {\n",
       "        vertical-align: top;\n",
       "    }\n",
       "\n",
       "    .dataframe thead th {\n",
       "        text-align: right;\n",
       "    }\n",
       "</style>\n",
       "<table border=\"1\" class=\"dataframe\">\n",
       "  <thead>\n",
       "    <tr style=\"text-align: right;\">\n",
       "      <th></th>\n",
       "      <th>Event Name</th>\n",
       "      <th>Location</th>\n",
       "      <th>Day</th>\n",
       "      <th>Date</th>\n",
       "      <th>Start Time</th>\n",
       "      <th>End Time</th>\n",
       "      <th>Time Zone</th>\n",
       "      <th>Image Link</th>\n",
       "      <th>Description</th>\n",
       "    </tr>\n",
       "  </thead>\n",
       "  <tbody>\n",
       "    <tr>\n",
       "      <th>0</th>\n",
       "      <td>Backstreet Boys: DNA World Tour</td>\n",
       "      <td>Isleta Amphitheater</td>\n",
       "      <td>SATURDAY</td>\n",
       "      <td>11 JUNE 2022</td>\n",
       "      <td>18:30</td>\n",
       "      <td>NA</td>\n",
       "      <td>MDT</td>\n",
       "      <td>https://scontent.fisb2-1.fna.fbcdn.net/v/t39.3...</td>\n",
       "      <td>Backstreet Boys with Delta Goodrem</td>\n",
       "    </tr>\n",
       "    <tr>\n",
       "      <th>1</th>\n",
       "      <td>DJ Shortkut</td>\n",
       "      <td>407 Central Ave. NW,Albuquerque,87102,US</td>\n",
       "      <td>FRIDAY</td>\n",
       "      <td>10 JUNE 2022</td>\n",
       "      <td>20:00</td>\n",
       "      <td>00:30</td>\n",
       "      <td>MDT</td>\n",
       "      <td>https://scontent.fisb2-1.fna.fbcdn.net/v/t39.3...</td>\n",
       "      <td>An eclectic night of strictly dance floor read...</td>\n",
       "    </tr>\n",
       "    <tr>\n",
       "      <th>2</th>\n",
       "      <td>Garden Music: Red Light Cameras</td>\n",
       "      <td>ABQ BioPark Botanic Garden</td>\n",
       "      <td>THURSDAY</td>\n",
       "      <td>9 JUNE 2022</td>\n",
       "      <td>18:00</td>\n",
       "      <td>20:30</td>\n",
       "      <td>MDT</td>\n",
       "      <td>https://scontent.fisb2-1.fna.fbcdn.net/v/t39.3...</td>\n",
       "      <td>Bring the family to enjoy an evening in the Ga...</td>\n",
       "    </tr>\n",
       "    <tr>\n",
       "      <th>3</th>\n",
       "      <td>Casa Brown Presents an Evening with Christophe...</td>\n",
       "      <td>Casa Brown House Concert Venue</td>\n",
       "      <td>SATURDAY</td>\n",
       "      <td>11 JUNE 2022</td>\n",
       "      <td>18:00</td>\n",
       "      <td>NA</td>\n",
       "      <td>MDT</td>\n",
       "      <td>https://scontent.fisb2-1.fna.fbcdn.net/v/t39.3...</td>\n",
       "      <td>When you’ve pulled a Playboy magazine out of y...</td>\n",
       "    </tr>\n",
       "    <tr>\n",
       "      <th>4</th>\n",
       "      <td>Suffocation | ABQ NM</td>\n",
       "      <td>Sunshine Theater</td>\n",
       "      <td>WEDNESDAY</td>\n",
       "      <td>8 JUNE 2022</td>\n",
       "      <td>18:00</td>\n",
       "      <td>23:00</td>\n",
       "      <td>MDT</td>\n",
       "      <td>https://scontent.fisb2-1.fna.fbcdn.net/v/t39.3...</td>\n",
       "      <td>* Suffocation * Atheist * Soreption * Contrari...</td>\n",
       "    </tr>\n",
       "    <tr>\n",
       "      <th>5</th>\n",
       "      <td>Prefest</td>\n",
       "      <td>EXPO NM Home of the New Mexico State Fair</td>\n",
       "      <td>FRIDAY</td>\n",
       "      <td>10 JUNE 2022</td>\n",
       "      <td>17:00</td>\n",
       "      <td>21:00</td>\n",
       "      <td>MDT</td>\n",
       "      <td>https://scontent.fisb2-1.fna.fbcdn.net/v/t39.3...</td>\n",
       "      <td>Join Albuquerque Pride Inc for our FREE Prefes...</td>\n",
       "    </tr>\n",
       "    <tr>\n",
       "      <th>6</th>\n",
       "      <td>Summertime in Old Town: June 10-12</td>\n",
       "      <td>Duration: 2 hr</td>\n",
       "      <td>FRIDAY</td>\n",
       "      <td>10 JUNE 2022</td>\n",
       "      <td>19:00</td>\n",
       "      <td>21:00</td>\n",
       "      <td>MDT</td>\n",
       "      <td>https://scontent.fisb2-1.fna.fbcdn.net/v/t39.3...</td>\n",
       "      <td>Plan to visit Historic Old Town this weekend a...</td>\n",
       "    </tr>\n",
       "    <tr>\n",
       "      <th>7</th>\n",
       "      <td>Uptown Sports Bar Rocking Return of live music...</td>\n",
       "      <td>Uptown Sports Bar and Grill</td>\n",
       "      <td>FRIDAY</td>\n",
       "      <td>10 JUNE 2022</td>\n",
       "      <td>19:30</td>\n",
       "      <td>00:30</td>\n",
       "      <td>MDT</td>\n",
       "      <td>https://scontent.fisb2-1.fna.fbcdn.net/v/t39.3...</td>\n",
       "      <td>Just a week away, Friday June 10th beginning a...</td>\n",
       "    </tr>\n",
       "    <tr>\n",
       "      <th>8</th>\n",
       "      <td>Old 97's</td>\n",
       "      <td>The Historic El Rey Theater</td>\n",
       "      <td>WEDNESDAY</td>\n",
       "      <td>8 JUNE 2022</td>\n",
       "      <td>19:30</td>\n",
       "      <td>NA</td>\n",
       "      <td>MDT</td>\n",
       "      <td>https://scontent.fisb2-1.fna.fbcdn.net/v/t39.3...</td>\n",
       "      <td>Formed in Dallas, Texas, Old 97's first emerge...</td>\n",
       "    </tr>\n",
       "    <tr>\n",
       "      <th>9</th>\n",
       "      <td>Old 97's</td>\n",
       "      <td>The Historic El Rey Theater</td>\n",
       "      <td>WEDNESDAY</td>\n",
       "      <td>8 JUNE 2022</td>\n",
       "      <td>20:00</td>\n",
       "      <td>NA</td>\n",
       "      <td>MDT</td>\n",
       "      <td>https://scontent.fisb2-1.fna.fbcdn.net/v/t39.3...</td>\n",
       "      <td>Formed in Dallas, Texas, Old 97's first emerge...</td>\n",
       "    </tr>\n",
       "    <tr>\n",
       "      <th>10</th>\n",
       "      <td>Uptown Sports Bar Rocking Return of live music...</td>\n",
       "      <td>Uptown Sports Bar and Grill</td>\n",
       "      <td>FRIDAY</td>\n",
       "      <td>10 JUNE 2022</td>\n",
       "      <td>19:30</td>\n",
       "      <td>00:30</td>\n",
       "      <td>MDT</td>\n",
       "      <td>https://scontent.fisb2-1.fna.fbcdn.net/v/t39.3...</td>\n",
       "      <td>Just a week away, Friday June 10th beginning a...</td>\n",
       "    </tr>\n",
       "  </tbody>\n",
       "</table>\n",
       "</div>"
      ],
      "text/plain": [
       "                                           Event Name  \\\n",
       "0                     Backstreet Boys: DNA World Tour   \n",
       "1                                         DJ Shortkut   \n",
       "2                     Garden Music: Red Light Cameras   \n",
       "3   Casa Brown Presents an Evening with Christophe...   \n",
       "4                                Suffocation | ABQ NM   \n",
       "5                                             Prefest   \n",
       "6                  Summertime in Old Town: June 10-12   \n",
       "7   Uptown Sports Bar Rocking Return of live music...   \n",
       "8                                            Old 97's   \n",
       "9                                            Old 97's   \n",
       "10  Uptown Sports Bar Rocking Return of live music...   \n",
       "\n",
       "                                     Location        Day           Date  \\\n",
       "0                         Isleta Amphitheater   SATURDAY  11 JUNE 2022    \n",
       "1    407 Central Ave. NW,Albuquerque,87102,US     FRIDAY  10 JUNE 2022    \n",
       "2                  ABQ BioPark Botanic Garden   THURSDAY   9 JUNE 2022    \n",
       "3              Casa Brown House Concert Venue   SATURDAY  11 JUNE 2022    \n",
       "4                            Sunshine Theater  WEDNESDAY   8 JUNE 2022    \n",
       "5   EXPO NM Home of the New Mexico State Fair     FRIDAY  10 JUNE 2022    \n",
       "6                              Duration: 2 hr     FRIDAY  10 JUNE 2022    \n",
       "7                 Uptown Sports Bar and Grill     FRIDAY  10 JUNE 2022    \n",
       "8                 The Historic El Rey Theater  WEDNESDAY   8 JUNE 2022    \n",
       "9                 The Historic El Rey Theater  WEDNESDAY   8 JUNE 2022    \n",
       "10                Uptown Sports Bar and Grill     FRIDAY  10 JUNE 2022    \n",
       "\n",
       "   Start Time End Time Time Zone  \\\n",
       "0       18:30       NA       MDT   \n",
       "1       20:00    00:30       MDT   \n",
       "2       18:00    20:30       MDT   \n",
       "3       18:00       NA       MDT   \n",
       "4       18:00    23:00       MDT   \n",
       "5       17:00    21:00       MDT   \n",
       "6       19:00    21:00       MDT   \n",
       "7       19:30    00:30       MDT   \n",
       "8       19:30       NA       MDT   \n",
       "9       20:00       NA       MDT   \n",
       "10      19:30    00:30       MDT   \n",
       "\n",
       "                                           Image Link  \\\n",
       "0   https://scontent.fisb2-1.fna.fbcdn.net/v/t39.3...   \n",
       "1   https://scontent.fisb2-1.fna.fbcdn.net/v/t39.3...   \n",
       "2   https://scontent.fisb2-1.fna.fbcdn.net/v/t39.3...   \n",
       "3   https://scontent.fisb2-1.fna.fbcdn.net/v/t39.3...   \n",
       "4   https://scontent.fisb2-1.fna.fbcdn.net/v/t39.3...   \n",
       "5   https://scontent.fisb2-1.fna.fbcdn.net/v/t39.3...   \n",
       "6   https://scontent.fisb2-1.fna.fbcdn.net/v/t39.3...   \n",
       "7   https://scontent.fisb2-1.fna.fbcdn.net/v/t39.3...   \n",
       "8   https://scontent.fisb2-1.fna.fbcdn.net/v/t39.3...   \n",
       "9   https://scontent.fisb2-1.fna.fbcdn.net/v/t39.3...   \n",
       "10  https://scontent.fisb2-1.fna.fbcdn.net/v/t39.3...   \n",
       "\n",
       "                                          Description  \n",
       "0                  Backstreet Boys with Delta Goodrem  \n",
       "1   An eclectic night of strictly dance floor read...  \n",
       "2   Bring the family to enjoy an evening in the Ga...  \n",
       "3   When you’ve pulled a Playboy magazine out of y...  \n",
       "4   * Suffocation * Atheist * Soreption * Contrari...  \n",
       "5   Join Albuquerque Pride Inc for our FREE Prefes...  \n",
       "6   Plan to visit Historic Old Town this weekend a...  \n",
       "7   Just a week away, Friday June 10th beginning a...  \n",
       "8   Formed in Dallas, Texas, Old 97's first emerge...  \n",
       "9   Formed in Dallas, Texas, Old 97's first emerge...  \n",
       "10  Just a week away, Friday June 10th beginning a...  "
      ]
     },
     "execution_count": 32,
     "metadata": {},
     "output_type": "execute_result"
    }
   ],
   "source": [
    "import pandas as pd\n",
    "\n",
    "df = pd.DataFrame(list(zip(EVENT_NAME , VENUE , DAY, DATE , START_TIME , END_TIME , TIME_ZONE , IMAGE_LINK , DESCRIPTION)),columns = [\"Event Name\",\"Location\", \"Day\" , \"Date\",\"Start Time\",\"End Time\",\"Time Zone\",\"Image Link\",\"Description\"] )\n",
    "file_name = 'EVENTS.xlsx'\n",
    "df.to_excel(file_name)\n",
    "df\n"
   ]
  },
  {
   "cell_type": "code",
   "execution_count": null,
   "id": "3a1f9210",
   "metadata": {},
   "outputs": [],
   "source": []
  }
 ],
 "metadata": {
  "kernelspec": {
   "display_name": "Python 3 (ipykernel)",
   "language": "python",
   "name": "python3"
  },
  "language_info": {
   "codemirror_mode": {
    "name": "ipython",
    "version": 3
   },
   "file_extension": ".py",
   "mimetype": "text/x-python",
   "name": "python",
   "nbconvert_exporter": "python",
   "pygments_lexer": "ipython3",
   "version": "3.9.7"
  },
  "latex_envs": {
   "LaTeX_envs_menu_present": true,
   "autoclose": true,
   "autocomplete": true,
   "bibliofile": "biblio.bib",
   "cite_by": "apalike",
   "current_citInitial": 1,
   "eqLabelWithNumbers": true,
   "eqNumInitial": 1,
   "hotkeys": {
    "equation": "Ctrl-E",
    "itemize": "Ctrl-I"
   },
   "labels_anchors": false,
   "latex_user_defs": false,
   "report_style_numbering": true,
   "user_envs_cfg": true
  },
  "varInspector": {
   "cols": {
    "lenName": 16,
    "lenType": 16,
    "lenVar": 40
   },
   "kernels_config": {
    "python": {
     "delete_cmd_postfix": "",
     "delete_cmd_prefix": "del ",
     "library": "var_list.py",
     "varRefreshCmd": "print(var_dic_list())"
    },
    "r": {
     "delete_cmd_postfix": ") ",
     "delete_cmd_prefix": "rm(",
     "library": "var_list.r",
     "varRefreshCmd": "cat(var_dic_list()) "
    }
   },
   "types_to_exclude": [
    "module",
    "function",
    "builtin_function_or_method",
    "instance",
    "_Feature"
   ],
   "window_display": false
  }
 },
 "nbformat": 4,
 "nbformat_minor": 5
}
